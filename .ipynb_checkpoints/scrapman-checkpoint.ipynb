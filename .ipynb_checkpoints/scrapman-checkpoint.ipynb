{
 "cells": [
  {
   "cell_type": "code",
   "execution_count": 30,
   "id": "ba1eec6b-f556-4692-8c96-f66caf41c599",
   "metadata": {},
   "outputs": [],
   "source": [
    "import requests\n",
    "from bs4 import BeautifulSoup as bs\n",
    "import pandas"
   ]
  },
  {
   "cell_type": "code",
   "execution_count": 31,
   "id": "211761ef-fe24-4505-989b-24f06868fdb6",
   "metadata": {},
   "outputs": [],
   "source": [
    "url = \"https://fr.wikipedia.org/wiki/France\""
   ]
  },
  {
   "cell_type": "code",
   "execution_count": 32,
   "id": "20381190-acea-478d-8cc7-904026e4e2da",
   "metadata": {},
   "outputs": [],
   "source": [
    "response = requests.get(url)"
   ]
  },
  {
   "cell_type": "code",
   "execution_count": 33,
   "id": "cc3583fc-565a-4ded-87f4-4d623bdfb0ca",
   "metadata": {},
   "outputs": [],
   "source": [
    "#response.content"
   ]
  },
  {
   "cell_type": "code",
   "execution_count": 34,
   "id": "6ba9a016-259f-4128-9133-2f0461dad484",
   "metadata": {},
   "outputs": [],
   "source": [
    "soup = bs(response.content, 'html.parser')"
   ]
  },
  {
   "cell_type": "code",
   "execution_count": 36,
   "id": "ed56aaf0-7e91-4ede-a495-9070fd1e46cd",
   "metadata": {},
   "outputs": [
    {
     "ename": "TypeError",
     "evalue": "'NoneType' object is not callable",
     "output_type": "error",
     "traceback": [
      "\u001b[0;31m---------------------------------------------------------------------------\u001b[0m",
      "\u001b[0;31mTypeError\u001b[0m                                 Traceback (most recent call last)",
      "Cell \u001b[0;32mIn[36], line 1\u001b[0m\n\u001b[0;32m----> 1\u001b[0m \u001b[43msoup\u001b[49m\u001b[38;5;241;43m.\u001b[39;49m\u001b[43mtbody\u001b[49m\u001b[38;5;241;43m.\u001b[39;49m\u001b[43mprettyfy\u001b[49m\u001b[43m(\u001b[49m\u001b[43m)\u001b[49m\n",
      "\u001b[0;31mTypeError\u001b[0m: 'NoneType' object is not callable"
     ]
    }
   ],
   "source": [
    "soup.tbody"
   ]
  },
  {
   "cell_type": "code",
   "execution_count": null,
   "id": "a1dcf3bd-6c41-4bdb-a2a5-9670e146f427",
   "metadata": {},
   "outputs": [],
   "source": []
  }
 ],
 "metadata": {
  "kernelspec": {
   "display_name": "Python 3 (ipykernel)",
   "language": "python",
   "name": "python3"
  },
  "language_info": {
   "codemirror_mode": {
    "name": "ipython",
    "version": 3
   },
   "file_extension": ".py",
   "mimetype": "text/x-python",
   "name": "python",
   "nbconvert_exporter": "python",
   "pygments_lexer": "ipython3",
   "version": "3.11.8"
  }
 },
 "nbformat": 4,
 "nbformat_minor": 5
}
